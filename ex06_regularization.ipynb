{
 "cells": [
  {
   "cell_type": "code",
   "execution_count": null,
   "metadata": {},
   "outputs": [],
   "source": [
    "# Import library\n",
    "import numpy as np\n",
    "exec(open(\"00_readingInput.py\").read())\n",
    "\n",
    "# set the size of mini-batch and number of epochs\n",
    "batch_size = 16\n",
    "epochs = 100\n",
    "\n",
    "# Import keras to build a DL model\n",
    "from keras.models import Sequential\n",
    "from keras.layers import Dense, Activation"
   ]
  },
  {
   "cell_type": "markdown",
   "metadata": {},
   "source": [
    "### Step 1:  從 keras.regularizers 中 import l2 這種 regularizer "
   ]
  },
  {
   "cell_type": "code",
   "execution_count": null,
   "metadata": {},
   "outputs": [],
   "source": [
    "# step 1 HERE\n"
   ]
  },
  {
   "cell_type": "markdown",
   "metadata": {},
   "source": [
    "### Step 2: 在前兩層的 Dense layer 中的 kernel_regularizer 設定使用 l2 regularizer 並且權重為 0.005"
   ]
  },
  {
   "cell_type": "code",
   "execution_count": null,
   "metadata": {},
   "outputs": [],
   "source": [
    "# step 2 HERE\n",
    "\n",
    "model_l2 = Sequential()\n",
    "\n",
    "# (Do!) 請加入 L2 regularizer, weight = 0.005\n",
    "model_l2.add(Dense(128, input_dim=200))\n",
    "model_l2.add(Activation('relu'))\n",
    "\n",
    "# (Do!) 請加入 L2 regularizer, weight = 0.005\n",
    "model_l2.add(Dense(256))\n",
    "model_l2.add(Activation('relu'))\n",
    "\n",
    "model_l2.add(Dense(5))\n",
    "model_l2.add(Activation('softmax'))"
   ]
  },
  {
   "cell_type": "code",
   "execution_count": null,
   "metadata": {},
   "outputs": [],
   "source": [
    "# Setting optimizer as Adam\n",
    "model_l2.compile(loss= 'categorical_crossentropy',\n",
    "                 optimizer='Adam',\n",
    "                 metrics=['accuracy'])\n",
    "\n",
    "# Fit models and use validation_split=0.1\n",
    "history_l2 = model_l2.fit(X_train, Y_train,\n",
    "                          batch_size=batch_size,\n",
    "                          epochs=epochs,\n",
    "                          verbose=0,\n",
    "                          shuffle=True,\n",
    "                          validation_split=0.1)\n",
    "\n",
    "loss_l2 = history_l2.history.get('loss')\n",
    "acc_l2 = history_l2.history.get('acc')\n",
    "val_loss_l2 = history_l2.history.get('val_loss')\n",
    "val_acc_l2 = history_l2.history.get('val_acc')"
   ]
  },
  {
   "cell_type": "code",
   "execution_count": null,
   "metadata": {},
   "outputs": [],
   "source": []
  },
  {
   "cell_type": "markdown",
   "metadata": {},
   "source": [
    "### model without regularizer for comparison "
   ]
  },
  {
   "cell_type": "code",
   "execution_count": null,
   "metadata": {},
   "outputs": [],
   "source": [
    "# reference\n",
    "model_adam = Sequential()\n",
    "model_adam.add(Dense(128, input_dim=200))\n",
    "model_adam.add(Activation('relu'))\n",
    "model_adam.add(Dense(256))\n",
    "model_adam.add(Activation('relu'))\n",
    "model_adam.add(Dense(5))\n",
    "model_adam.add(Activation('softmax'))\n",
    "\n",
    "''' Setting optimizer as Adam '''\n",
    "from keras.optimizers import SGD, Adam, RMSprop, Adagrad\n",
    "model_adam.compile(loss= 'categorical_crossentropy',\n",
    "                   optimizer='Adam',\n",
    "                   metrics=['accuracy'])\n",
    "\n",
    "'''Fit models and use validation_split=0.1 '''\n",
    "history_adam = model_adam.fit(X_train, Y_train,\n",
    "                              batch_size=batch_size,\n",
    "                              epochs=epochs,\n",
    "                              verbose=0,\n",
    "                              shuffle=True,\n",
    "                              validation_split=0.1)\n",
    "\n",
    "''' Access the performance on validation data '''\n",
    "loss_adam = history_adam.history.get('loss')\n",
    "acc_adam = history_adam.history.get('acc')\n",
    "val_loss_adam = history_adam.history.get('val_loss')\n",
    "val_acc_adam = history_adam.history.get('val_acc')"
   ]
  },
  {
   "cell_type": "code",
   "execution_count": null,
   "metadata": {},
   "outputs": [],
   "source": [
    "# Visualize the loss and accuracy of both models\n",
    "import matplotlib.pyplot as plt\n",
    "plt.figure(0,figsize=(8,6))\n",
    "plt.subplot(121)\n",
    "plt.plot(range(len(loss_adam)), loss_adam,label='Training')\n",
    "plt.plot(range(len(val_loss_adam)), val_loss_adam,label='Validation')\n",
    "plt.ylim([0,2])\n",
    "plt.title('Loss - Original')\n",
    "plt.xlabel(\"epoch\")\n",
    "plt.legend(loc='upper left')\n",
    "plt.subplot(122)\n",
    "plt.plot(range(len(loss_l2)), loss_l2,label='Training')\n",
    "plt.plot(range(len(val_loss_l2)), val_loss_l2,label='Validation')\n",
    "plt.ylim([0,2])\n",
    "plt.title('Loss - With Regularizer')\n",
    "plt.xlabel(\"epoch\")\n",
    "plt.tight_layout()\n",
    "plt.show()\n",
    "plt.savefig('06_regularizer_loss.png',dpi=300,format='png')\n",
    "plt.close()\n",
    "print('Result saved into 06_regularizer.png')\n",
    "\n",
    "import matplotlib.pyplot as plt\n",
    "plt.figure(0,figsize=(8,6))\n",
    "plt.subplot(121)\n",
    "plt.plot(range(len(acc_adam)), acc_adam,label='Training')\n",
    "plt.plot(range(len(val_acc_adam)), val_acc_adam,label='Validation')\n",
    "plt.ylim([0.5,0.95])\n",
    "plt.title('Accuracy - Original')\n",
    "plt.xlabel(\"epoch\")\n",
    "plt.legend(loc='upper left')\n",
    "plt.subplot(122)\n",
    "plt.plot(range(len(acc_l2)), acc_l2,label='Training')\n",
    "plt.plot(range(len(val_acc_l2)), val_acc_l2,label='Validation')\n",
    "plt.ylim([0.5,0.95])\n",
    "plt.title('Accuracy - With Regularizer')\n",
    "plt.xlabel(\"epoch\")\n",
    "plt.tight_layout()\n",
    "plt.savefig('06_regularizer_acc.png',dpi=300,format='png')\n",
    "plt.show()\n",
    "plt.close()\n",
    "print('Result saved into 06_regularizer.png')"
   ]
  }
 ],
 "metadata": {
  "kernelspec": {
   "display_name": "Python 3",
   "language": "python",
   "name": "python3"
  },
  "language_info": {
   "codemirror_mode": {
    "name": "ipython",
    "version": 3
   },
   "file_extension": ".py",
   "mimetype": "text/x-python",
   "name": "python",
   "nbconvert_exporter": "python",
   "pygments_lexer": "ipython3",
   "version": "3.6.3"
  }
 },
 "nbformat": 4,
 "nbformat_minor": 2
}
