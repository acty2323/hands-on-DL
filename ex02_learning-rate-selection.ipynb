{
 "cells": [
  {
   "cell_type": "code",
   "execution_count": null,
   "metadata": {},
   "outputs": [],
   "source": [
    "# Import library\n",
    "import numpy as np\n",
    "exec(open(\"00_readingInput.py\").read())\n",
    "\n",
    "# Import keras to build a DL model\n",
    "from keras.models import Sequential\n",
    "from keras.layers import Dense, Activation\n",
    "\n",
    "# set the size of mini-batch and number of epochs\n",
    "batch_size = 16\n",
    "epochs = 50"
   ]
  },
  {
   "cell_type": "markdown",
   "metadata": {},
   "source": [
    "### Step 1: 宣告一個 SGD optimizer 並且設定其 learning rate = 0.1, 再執行下方程式訓練 "
   ]
  },
  {
   "cell_type": "code",
   "execution_count": null,
   "metadata": {},
   "outputs": [],
   "source": [
    "from keras.optimizers import SGD\n",
    "\n",
    "# sgd_large = "
   ]
  },
  {
   "cell_type": "code",
   "execution_count": null,
   "metadata": {},
   "outputs": [],
   "source": [
    "#  1. Model using large learning rate, for example: 0.1\n",
    "model_large = Sequential()\n",
    "model_large.add(Dense(128, input_dim=200))\n",
    "model_large.add(Activation('sigmoid'))\n",
    "model_large.add(Dense(256))\n",
    "model_large.add(Activation('sigmoid'))\n",
    "model_large.add(Dense(5))\n",
    "model_large.add(Activation('softmax'))\n",
    "\n",
    "model_large.compile(loss= 'categorical_crossentropy',\n",
    "              optimizer=sgd_large,\n",
    "              metrics=['accuracy'])\n",
    "\n",
    "history_large = model_large.fit(X_train, Y_train,\n",
    "                                batch_size=batch_size,\n",
    "                                epochs=epochs,\n",
    "                                verbose=0,\n",
    "                                shuffle=True,\n",
    "                                validation_split=0.1)\n",
    "\n",
    "loss_large = history_large.history.get('loss')\n",
    "acc_large = history_large.history.get('acc')"
   ]
  },
  {
   "cell_type": "markdown",
   "metadata": {},
   "source": [
    "### Step 2: 同 Step 1 但將 learning rate 設定為 0.01, 再執行下方程式訓練 "
   ]
  },
  {
   "cell_type": "code",
   "execution_count": null,
   "metadata": {},
   "outputs": [],
   "source": [
    "# set the learning rate of SGD optimizer to 0.01\n",
    "\n",
    "# sgd_median = "
   ]
  },
  {
   "cell_type": "code",
   "execution_count": null,
   "metadata": {},
   "outputs": [],
   "source": [
    "# print 'Building model using SGD(lr=0.01)'\n",
    "''' 2. Model using median learning rate '''\n",
    "model_median = Sequential()\n",
    "model_median.add(Dense(128, input_dim=200))\n",
    "model_median.add(Activation('sigmoid'))\n",
    "model_median.add(Dense(256))\n",
    "model_median.add(Activation('sigmoid'))\n",
    "model_median.add(Dense(5))\n",
    "model_median.add(Activation('softmax'))\n",
    "\n",
    "\n",
    "model_median.compile(loss= 'categorical_crossentropy',\n",
    "              optimizer=sgd_median ,\n",
    "              metrics=['accuracy'])\n",
    "\n",
    "history_median = model_median.fit(X_train, Y_train,\n",
    "                                  batch_size=batch_size,\n",
    "                                  epochs=epochs,\n",
    "                                  verbose=0,\n",
    "                                  shuffle=True,\n",
    "                                  validation_split=0.1)\n",
    "\n",
    "loss_median = history_median.history.get('loss')\n",
    "acc_median = history_median.history.get('acc')"
   ]
  },
  {
   "cell_type": "markdown",
   "metadata": {},
   "source": [
    "### Step 3: 同 Step 1 但將 learning rate 設定為 0.001, 再執行下方程式訓練 "
   ]
  },
  {
   "cell_type": "code",
   "execution_count": null,
   "metadata": {},
   "outputs": [],
   "source": [
    "# set the learning rate of SGD optimizer to 0.001\n",
    "\n",
    "# sgd_small = "
   ]
  },
  {
   "cell_type": "code",
   "execution_count": null,
   "metadata": {},
   "outputs": [],
   "source": [
    "# print 'Building model using SGD(lr=0.001)'\n",
    "''' 3. Model using small learning rate '''\n",
    "model_small = Sequential()\n",
    "model_small.add(Dense(128, input_dim=200))\n",
    "model_small.add(Activation('sigmoid'))\n",
    "model_small.add(Dense(256))\n",
    "model_small.add(Activation('sigmoid'))\n",
    "model_small.add(Dense(5))\n",
    "model_small.add(Activation('softmax'))\n",
    "\n",
    "model_small.compile(loss= 'categorical_crossentropy',\n",
    "                    optimizer=sgd_small,\n",
    "                    metrics=['accuracy'])\n",
    "\n",
    "history_small = model_small.fit(X_train, Y_train,\n",
    "                                batch_size=batch_size,\n",
    "                                epochs=epochs,\n",
    "                                verbose=0,\n",
    "                                shuffle=True,\n",
    "                                validation_split=0.1)\n",
    "\n",
    "loss_small = history_small.history.get('loss')\n",
    "acc_small = history_small.history.get('acc')"
   ]
  },
  {
   "cell_type": "code",
   "execution_count": null,
   "metadata": {},
   "outputs": [],
   "source": [
    "import matplotlib.pyplot as plt\n",
    "plt.figure(0,figsize=(8,6))\n",
    "plt.subplot(121)\n",
    "plt.plot(range(len(loss_large)), loss_large,label='lr (large)')\n",
    "plt.plot(range(len(loss_median)), loss_median,label='lr (intermediate)')\n",
    "plt.plot(range(len(loss_small)), loss_small,label='lr (small)')\n",
    "plt.title('Loss')\n",
    "plt.xlabel(\"epoch\")\n",
    "plt.subplot(122)\n",
    "plt.plot(range(len(acc_large)), acc_large,label='lr (large)')\n",
    "plt.plot(range(len(acc_median)), acc_median,label='lr (intermediate)')\n",
    "plt.plot(range(len(acc_small)), acc_small,label='lr (small)')\n",
    "plt.title('Accuracy')\n",
    "plt.xlabel(\"epoch\")\n",
    "plt.legend(loc='lower right')\n",
    "plt.tight_layout()\n",
    "plt.savefig('02_learningRateSelection.png',dpi=300,format='png')\n",
    "plt.show()\n",
    "plt.close()\n",
    "print('Result saved into 02_learningRateSelection.png')"
   ]
  },
  {
   "cell_type": "code",
   "execution_count": null,
   "metadata": {},
   "outputs": [],
   "source": []
  }
 ],
 "metadata": {
  "kernelspec": {
   "display_name": "Python 3",
   "language": "python",
   "name": "python3"
  },
  "language_info": {
   "codemirror_mode": {
    "name": "ipython",
    "version": 3
   },
   "file_extension": ".py",
   "mimetype": "text/x-python",
   "name": "python",
   "nbconvert_exporter": "python",
   "pygments_lexer": "ipython3",
   "version": "3.6.3"
  }
 },
 "nbformat": 4,
 "nbformat_minor": 2
}
