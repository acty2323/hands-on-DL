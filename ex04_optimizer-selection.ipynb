{
 "cells": [
  {
   "cell_type": "code",
   "execution_count": null,
   "metadata": {},
   "outputs": [],
   "source": [
    "# Import library\n",
    "import numpy as np\n",
    "exec(open(\"00_readingInput.py\").read())\n",
    "\n",
    "# set the size of mini-batch and number of epochs\n",
    "batch_size = 16\n",
    "epochs = 30\n",
    "\n",
    "# Import keras to build a DL model\n",
    "from keras.models import Sequential\n",
    "from keras.layers import Dense, Activation"
   ]
  },
  {
   "cell_type": "code",
   "execution_count": null,
   "metadata": {},
   "outputs": [],
   "source": [
    "model_adam = Sequential()\n",
    "model_adam.add(Dense(128, input_dim=200))\n",
    "model_adam.add(Activation('relu'))\n",
    "model_adam.add(Dense(256))\n",
    "model_adam.add(Activation('relu'))\n",
    "model_adam.add(Dense(5))\n",
    "model_adam.add(Activation('softmax'))"
   ]
  },
  {
   "cell_type": "markdown",
   "metadata": {},
   "source": [
    "### Step 1: 從 keras.optimizers 引入 Adam"
   ]
  },
  {
   "cell_type": "code",
   "execution_count": null,
   "metadata": {},
   "outputs": [],
   "source": [
    "# Setting optimizer as Adam\n",
    "from keras.optimizers import  Adam\n"
   ]
  },
  {
   "cell_type": "markdown",
   "metadata": {},
   "source": [
    "### Step 2: 宣告一個 Adam optimizer 並將 learning rate 設定在 0.001, 在 model compile 時使用這個 optimizer"
   ]
  },
  {
   "cell_type": "code",
   "execution_count": null,
   "metadata": {},
   "outputs": [],
   "source": [
    "# Step 2 HERE\n",
    "\n",
    "# adam = "
   ]
  },
  {
   "cell_type": "code",
   "execution_count": null,
   "metadata": {},
   "outputs": [],
   "source": [
    "# 請在 compile model_adam 時使用 'Adam' 當作 optimizer\n",
    "model_adam.compile(loss='categorical_crossentropy',\n",
    "                  optimizer=,\n",
    "                  metrics=['accuracy'])"
   ]
  },
  {
   "cell_type": "code",
   "execution_count": null,
   "metadata": {},
   "outputs": [],
   "source": [
    "# Fit models and use validation_split=0.1\n",
    "history_adam = model_adam.fit(X_train, Y_train,\n",
    "                              batch_size=batch_size,\n",
    "                              epochs=epochs,\n",
    "                              verbose=0,\n",
    "                              shuffle=True,\n",
    "                              validation_split=0.1)\n",
    "\n",
    "loss_adam= history_adam.history.get('loss')\n",
    "acc_adam = history_adam.history.get('acc')"
   ]
  },
  {
   "cell_type": "code",
   "execution_count": null,
   "metadata": {},
   "outputs": [],
   "source": []
  },
  {
   "cell_type": "markdown",
   "metadata": {},
   "source": [
    "### SGD-trained model for comparison  "
   ]
  },
  {
   "cell_type": "code",
   "execution_count": null,
   "metadata": {},
   "outputs": [],
   "source": [
    "model_sgd = Sequential()\n",
    "model_sgd.add(Dense(128, input_dim=200))\n",
    "model_sgd.add(Activation('relu'))\n",
    "model_sgd.add(Dense(256))\n",
    "model_sgd.add(Activation('relu'))\n",
    "model_sgd.add(Dense(5))\n",
    "model_sgd.add(Activation('softmax'))\n",
    "\n",
    "''' Setting optimizer as SGD '''\n",
    "from keras.optimizers import SGD\n",
    "sgd = SGD(lr=0.001,momentum=0.0,decay=0.0,nesterov=False)\n",
    "\n",
    "model_sgd.compile(loss='categorical_crossentropy',\n",
    "                  optimizer=sgd,\n",
    "                  metrics=['accuracy'])\n",
    "\n",
    "history_sgd = model_sgd.fit(X_train, Y_train,\n",
    "                            batch_size=batch_size,\n",
    "                            epochs=epochs,\n",
    "                            verbose=0,\n",
    "                            shuffle=True,\n",
    "                            validation_split=0.1)\n",
    "\n",
    "loss_sgd= history_sgd.history.get('loss')\n",
    "acc_sgd = history_sgd.history.get('acc')"
   ]
  },
  {
   "cell_type": "code",
   "execution_count": null,
   "metadata": {},
   "outputs": [],
   "source": [
    "''' Visualize the loss and accuracy of both models'''\n",
    "import matplotlib.pyplot as plt\n",
    "plt.figure(0,figsize=(8,6))\n",
    "plt.subplot(121)\n",
    "plt.plot(range(len(loss_adam)), loss_adam,label='Adam')\n",
    "plt.plot(range(len(loss_sgd)), loss_sgd,label='SGD')\n",
    "plt.title('Loss')\n",
    "plt.xlabel(\"epoch\")\n",
    "plt.legend(loc='upper left')\n",
    "plt.subplot(122)\n",
    "plt.plot(range(len(acc_adam)), acc_adam,label='Adam')\n",
    "plt.plot(range(len(acc_sgd)), acc_sgd,label='SGD')\n",
    "plt.title('Accuracy')\n",
    "plt.xlabel(\"epoch\")\n",
    "plt.tight_layout()\n",
    "plt.savefig('04_optimizerSelection.png',dpi=300,format='png')\n",
    "plt.show()\n",
    "plt.close()\n",
    "print('Result saved into 04_optimizerSelection.png')"
   ]
  },
  {
   "cell_type": "code",
   "execution_count": null,
   "metadata": {},
   "outputs": [],
   "source": []
  }
 ],
 "metadata": {
  "kernelspec": {
   "display_name": "Python 3",
   "language": "python",
   "name": "python3"
  },
  "language_info": {
   "codemirror_mode": {
    "name": "ipython",
    "version": 3
   },
   "file_extension": ".py",
   "mimetype": "text/x-python",
   "name": "python",
   "nbconvert_exporter": "python",
   "pygments_lexer": "ipython3",
   "version": "3.6.3"
  }
 },
 "nbformat": 4,
 "nbformat_minor": 2
}
