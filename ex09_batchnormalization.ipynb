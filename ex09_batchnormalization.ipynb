{
 "cells": [
  {
   "cell_type": "code",
   "execution_count": null,
   "metadata": {},
   "outputs": [],
   "source": [
    "# Import library\n",
    "import numpy as np\n",
    "exec(open(\"00_readingInput.py\").read())\n",
    "\n",
    "# set the size of mini-batch and number of epochs\n",
    "batch_size = 16\n",
    "epochs = 100\n",
    "\n",
    "# Import keras to build a DL model\n",
    "from keras.models import Sequential\n",
    "from keras.layers import Dense, Activation, Dropout"
   ]
  },
  {
   "cell_type": "markdown",
   "metadata": {},
   "source": [
    "### Step 1: 從 model.layers 引入 BatchNormalization"
   ]
  },
  {
   "cell_type": "code",
   "execution_count": null,
   "metadata": {},
   "outputs": [],
   "source": [
    "# Step 1 HERE\n"
   ]
  },
  {
   "cell_type": "markdown",
   "metadata": {},
   "source": [
    "### Step 2: 請在每層 Dense layer 和 Activation layer之間加入 BatchNormalization layer"
   ]
  },
  {
   "cell_type": "code",
   "execution_count": null,
   "metadata": {},
   "outputs": [],
   "source": [
    "# Step 2 HERE\n",
    "\n",
    "# (Do!) 請幫下方的 model 加入適當的 DropOut layer\n",
    "model_adam = Sequential()\n",
    "model_adam.add(Dense(128, input_dim=200))\n",
    "# Add BatchNormalization layer\n",
    "\n",
    "model_adam.add(Activation('relu'))\n",
    "\n",
    "model_adam.add(Dense(256))\n",
    "# Add BatchNormalization layer\n",
    "\n",
    "model_adam.add(Activation('relu'))\n",
    "\n",
    "model_adam.add(Dense(5))\n",
    "# Add BatchNormalization layer\n",
    "\n",
    "model_adam.add(Activation('softmax'))"
   ]
  },
  {
   "cell_type": "code",
   "execution_count": null,
   "metadata": {},
   "outputs": [],
   "source": [
    "# Setting optimizer as Adam\n",
    "from keras.optimizers import  Adam\n",
    "adam = Adam(lr=1e-4)\n",
    "model_adam.compile(loss= 'categorical_crossentropy',\n",
    "                   optimizer=adam,\n",
    "                   metrics=['accuracy'])\n",
    "\n",
    "# Fit models and use validation_split=0.1\n",
    "history_adam = model_adam.fit(X_train, Y_train,\n",
    "                              batch_size=batch_size,\n",
    "                              epochs=epochs,\n",
    "                              verbose=1,\n",
    "                              shuffle=True,\n",
    "                              validation_split=0.1)\n",
    "\n",
    "loss_adam= history_adam.history.get('loss')\n",
    "acc_adam = history_adam.history.get('acc')\n",
    "val_loss_adam = history_adam.history.get('val_loss')\n",
    "val_acc_adam = history_adam.history.get('val_acc')"
   ]
  },
  {
   "cell_type": "code",
   "execution_count": null,
   "metadata": {},
   "outputs": [],
   "source": [
    "# Visualize the loss and accuracy of both models\n",
    "import matplotlib.pyplot as plt\n",
    "plt.figure(0,figsize=(8,6))\n",
    "plt.subplot(121)\n",
    "plt.plot(range(len(loss_adam)), loss_adam,label='Training')\n",
    "plt.plot(range(len(val_loss_adam)), val_loss_adam,label='Validation')\n",
    "plt.title('Loss')\n",
    "plt.xlabel(\"epoch\")\n",
    "plt.legend(loc='upper left')\n",
    "plt.subplot(122)\n",
    "plt.plot(range(len(acc_adam)), acc_adam,label='Training')\n",
    "plt.plot(range(len(val_acc_adam)), val_acc_adam,label='Validation')\n",
    "plt.title('Accuracy')\n",
    "plt.xlabel(\"epoch\")\n",
    "plt.tight_layout()\n",
    "plt.savefig('09_batchnormalization.png',dpi=300,format='png')\n",
    "plt.show()\n",
    "plt.close()\n",
    "print('Result saved into 09_batchnormalization.png')"
   ]
  },
  {
   "cell_type": "code",
   "execution_count": null,
   "metadata": {},
   "outputs": [],
   "source": []
  }
 ],
 "metadata": {
  "kernelspec": {
   "display_name": "Python 3",
   "language": "python",
   "name": "python3"
  },
  "language_info": {
   "codemirror_mode": {
    "name": "ipython",
    "version": 3
   },
   "file_extension": ".py",
   "mimetype": "text/x-python",
   "name": "python",
   "nbconvert_exporter": "python",
   "pygments_lexer": "ipython3",
   "version": "3.6.3"
  }
 },
 "nbformat": 4,
 "nbformat_minor": 2
}
