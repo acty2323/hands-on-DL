{
 "cells": [
  {
   "cell_type": "code",
   "execution_count": null,
   "metadata": {},
   "outputs": [],
   "source": [
    "''' Import library '''\n",
    "import numpy as np\n",
    "exec(open(\"00_readingInput.py\").read())"
   ]
  },
  {
   "cell_type": "markdown",
   "metadata": {},
   "source": [
    "### Step 1: 引入需要的函式\n",
    "- 從 keras.models 裡 import Sequential\n",
    "- 從 keras.layers 裡 import Dense 和 Activation"
   ]
  },
  {
   "cell_type": "code",
   "execution_count": null,
   "metadata": {},
   "outputs": [],
   "source": []
  },
  {
   "cell_type": "markdown",
   "metadata": {},
   "source": [
    "### Step 2: 宣告模型架構\n",
    "建立一個 Fully Connected Neural Network (input_dim = 200, output_dim = 5)\n",
    "- 宣告一個 Sequential 的模型\n",
    "- 加入 1st dense layer = 128 neurons using 'sigmoid' activation function\n",
    "- 加入 2nd dense layer = 256 neurons using 'sigmoid' activation function\n",
    "- 加入 3rd dense layer (output) = 5 neurons using 'softmax' activation function"
   ]
  },
  {
   "cell_type": "code",
   "execution_count": null,
   "metadata": {},
   "outputs": [],
   "source": [
    "# Step 2 HERE\n"
   ]
  },
  {
   "cell_type": "markdown",
   "metadata": {},
   "source": [
    "### Step 3: 指定模型的優化器 (optimizer) 與 目標函數 (objective/loss function)\n",
    "- 從 keras.optimizers import SGD\n",
    "- 建立一個 SGD optimizer, learing rate=0.01 (lr=0.01)\n",
    "- 在 compile model 時，指定優化器與 loss function='categorical_crossentropy'"
   ]
  },
  {
   "cell_type": "code",
   "execution_count": null,
   "metadata": {},
   "outputs": [],
   "source": [
    "# Step 3 HERE"
   ]
  },
  {
   "cell_type": "markdown",
   "metadata": {},
   "source": [
    "### Step 4: 設定 batch size 和 number of epochs"
   ]
  },
  {
   "cell_type": "code",
   "execution_count": null,
   "metadata": {},
   "outputs": [],
   "source": [
    "# Step 4 HERE\n",
    "batch_size =\n",
    "epochs = "
   ]
  },
  {
   "cell_type": "markdown",
   "metadata": {},
   "source": [
    "### Step 5: 訓練模型 model.fit 並給入訓練資料和參數"
   ]
  },
  {
   "cell_type": "code",
   "execution_count": null,
   "metadata": {},
   "outputs": [],
   "source": [
    "# Step 5 HERE"
   ]
  },
  {
   "cell_type": "code",
   "execution_count": null,
   "metadata": {},
   "outputs": [],
   "source": []
  },
  {
   "cell_type": "markdown",
   "metadata": {},
   "source": [
    "### Example: 使用 loss function 為 'mean_squared_error' 的模型 "
   ]
  },
  {
   "cell_type": "code",
   "execution_count": null,
   "metadata": {},
   "outputs": [],
   "source": [
    "# print 'Building a model whose loss function is mean_squared_error'\n",
    "''' For mean_squared_error '''\n",
    "model_mse = Sequential()\n",
    "model_mse.add(Dense(128, input_dim=200))\n",
    "model_mse.add(Activation('sigmoid'))\n",
    "model_mse.add(Dense(256))\n",
    "model_mse.add(Activation('sigmoid'))\n",
    "model_mse.add(Dense(5))\n",
    "model_mse.add(Activation('softmax'))\n",
    "\n",
    "# please use mean_squared_error as loss\n",
    "model_mse.compile(loss= 'mean_squared_error',\n",
    "              optimizer=sgd,\n",
    "              metrics=['accuracy'])"
   ]
  },
  {
   "cell_type": "code",
   "execution_count": null,
   "metadata": {},
   "outputs": [],
   "source": [
    "history_mse = model_mse.fit(X_train, Y_train,\n",
    "                            batch_size=batch_size,\n",
    "                            epochs=epochs,\n",
    "                            verbose=0,\n",
    "                            shuffle=True,\n",
    "                            validation_split=0.1)"
   ]
  },
  {
   "cell_type": "code",
   "execution_count": null,
   "metadata": {},
   "outputs": [],
   "source": []
  },
  {
   "cell_type": "code",
   "execution_count": null,
   "metadata": {},
   "outputs": [],
   "source": [
    "# Access the loss and accuracy in every epoch\n",
    "loss_ce\t= history_ce.history.get('loss')\n",
    "acc_ce \t= history_ce.history.get('acc')\n",
    "loss_mse= history_mse.history.get('loss')\n",
    "acc_mse = history_mse.history.get('acc')\n",
    "\n",
    "# Visualize the loss and accuracy of both models\n",
    "import matplotlib.pyplot as plt\n",
    "plt.figure(0,figsize=(8,6))\n",
    "plt.subplot(121)\n",
    "plt.plot(range(len(loss_ce)), loss_ce,label='CE')\n",
    "plt.plot(range(len(loss_mse)), loss_mse,label='MSE')\n",
    "plt.title('Loss')\n",
    "plt.xlabel(\"epoch\")\n",
    "plt.subplot(122)\n",
    "plt.plot(range(len(acc_ce)), acc_ce,label='CE')\n",
    "plt.plot(range(len(acc_mse)), acc_mse,label='MSE')\n",
    "plt.title('Accuracy')\n",
    "plt.xlabel(\"epoch\")\n",
    "plt.legend(loc='lower right')\n",
    "plt.tight_layout()\n",
    "plt.show()\n",
    "plt.savefig('01_lossFuncSelection.png',dpi=300,format='png')\n",
    "plt.close()"
   ]
  }
 ],
 "metadata": {
  "kernelspec": {
   "display_name": "Python 3",
   "language": "python",
   "name": "python3"
  },
  "language_info": {
   "codemirror_mode": {
    "name": "ipython",
    "version": 3
   },
   "file_extension": ".py",
   "mimetype": "text/x-python",
   "name": "python",
   "nbconvert_exporter": "python",
   "pygments_lexer": "ipython3",
   "version": "3.6.3"
  }
 },
 "nbformat": 4,
 "nbformat_minor": 2
}
